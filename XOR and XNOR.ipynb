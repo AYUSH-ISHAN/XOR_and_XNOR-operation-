{
 "cells": [
  {
   "cell_type": "code",
   "execution_count": 21,
   "metadata": {},
   "outputs": [],
   "source": [
    "import numpy as np"
   ]
  },
  {
   "cell_type": "code",
   "execution_count": 27,
   "metadata": {},
   "outputs": [],
   "source": [
    "X = np.array(([0,0,0], [0,1,0],[1,0,0],[1,1,0],[0,0,1],[0,1,1],[1,0,1],[1,1,1]), dtype = float)\n",
    "Y = np.array(([0],[1],[1],[0],[1],[0],[0],[1]), dtype =float)\n",
    "X_test = np.array(([0.3,0.3,0.3], [1,1,0.3],[0.3,0.3,1]), dtype = float)"
   ]
  },
  {
   "cell_type": "code",
   "execution_count": 28,
   "metadata": {},
   "outputs": [
    {
     "name": "stdout",
     "output_type": "stream",
     "text": [
      "input: [[0. 0. 0.]\n",
      " [0. 1. 0.]\n",
      " [1. 0. 0.]\n",
      " [1. 1. 0.]\n",
      " [0. 0. 1.]\n",
      " [0. 1. 1.]\n",
      " [1. 0. 1.]\n",
      " [1. 1. 1.]]\n",
      "actual output: [[0.]\n",
      " [1.]\n",
      " [1.]\n",
      " [0.]\n",
      " [1.]\n",
      " [0.]\n",
      " [0.]\n",
      " [1.]]\n",
      "loss: 0.0010671325979997627\n",
      "\n",
      "\n",
      "Predicted Output: [[0.04538796]\n",
      " [0.9653758 ]\n",
      " [0.94801481]\n",
      " [0.02621499]\n",
      " [0.96539335]\n",
      " [0.00140404]\n",
      " [0.02624615]\n",
      " [0.99985628]]\n"
     ]
    }
   ],
   "source": [
    "class NeuralNetwork(object):\n",
    "    def __init__(self):\n",
    "        self.inputSize = 3\n",
    "        self.outputSize = 1\n",
    "        self.hiddenSize = 3\n",
    "    \n",
    "        self.W1 = np.random.randn(self.inputSize, self.hiddenSize)\n",
    "        self.W2 = np.random.randn(self.hiddenSize, self.outputSize)\n",
    "    \n",
    "    def feedForward(self, X):\n",
    "        self.z = np.dot(X, self.W1)\n",
    "        self.z2 = self.sigmoid(self.z)\n",
    "        self.z3 = np.dot(self.z2, self.W2)\n",
    "        output = self.sigmoid(self.z3)\n",
    "        return output\n",
    "    \n",
    "    def sigmoid(self, s, deriv = False):\n",
    "        if deriv == True:\n",
    "            return s*(1-s)\n",
    "        return 1/(1 + np.exp(-s))\n",
    "    \n",
    "    def backward(self, X,y, output):\n",
    "        self.output_error = y-output\n",
    "        self.output_delta = self.output_error*self.sigmoid(output, deriv = True)\n",
    "        \n",
    "        self.z2_error = self.output_delta.dot(self.W2.T)\n",
    "        self.z2_delta = self.z2_error*self.sigmoid(self.z2, deriv = True)\n",
    "        \n",
    "        self.W1 += X.T.dot(self.z2_delta)\n",
    "        self.W2 += self.z2.T.dot(self.output_delta)\n",
    "        \n",
    "    def train(self, X, Y):\n",
    "        output = self.feedForward(X)\n",
    "        self.backward(X, Y, output)\n",
    "        \n",
    "    def test(self, X_test):\n",
    "        output_test = self.feedForward(X_test)\n",
    "        #self.backward(X, Y, output)\n",
    "        \n",
    "NN = NeuralNetwork()\n",
    "\n",
    "for i in range(5000):\n",
    "    #if (i % 100 == 0):\n",
    "       # print(\"loss: \"+ str(np.mean(np.square(Y-NN.feedForward(X)))))\n",
    "    NN.train(X,Y)\n",
    "\n",
    "print(\"input: \"+ str(X))\n",
    "print(\"actual output: \"+ str(Y))\n",
    "print(\"loss: \"+ str(np.mean(np.square(Y-NN.feedForward(X)))))\n",
    "print(\"\\n\")\n",
    "print(\"Predicted Output: \"+ str(NN.feedForward(X)))"
   ]
  },
  {
   "cell_type": "code",
   "execution_count": 29,
   "metadata": {},
   "outputs": [
    {
     "name": "stdout",
     "output_type": "stream",
     "text": [
      "Predicted Output: [[0.71173644]\n",
      " [0.33292958]\n",
      " [0.95467095]]\n"
     ]
    }
   ],
   "source": [
    "for i in range(5000):\n",
    "    NN.test(X_test)\n",
    "print(\"Predicted Output: \"+ str(NN.feedForward(X_test)))"
   ]
  },
  {
   "cell_type": "code",
   "execution_count": null,
   "metadata": {},
   "outputs": [],
   "source": []
  }
 ],
 "metadata": {
  "kernelspec": {
   "display_name": "Python 3",
   "language": "python",
   "name": "python3"
  },
  "language_info": {
   "codemirror_mode": {
    "name": "ipython",
    "version": 3
   },
   "file_extension": ".py",
   "mimetype": "text/x-python",
   "name": "python",
   "nbconvert_exporter": "python",
   "pygments_lexer": "ipython3",
   "version": "3.8.8"
  }
 },
 "nbformat": 4,
 "nbformat_minor": 4
}
